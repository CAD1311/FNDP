{
 "cells": [
  {
   "cell_type": "code",
   "execution_count": 1,
   "id": "1a4960ba-81d4-4a3f-8c9e-e1603303188e",
   "metadata": {},
   "outputs": [
    {
     "data": {
      "application/vnd.jupyter.widget-view+json": {
       "model_id": "d8b53db5cb584172a1ae4d62c2da94b4",
       "version_major": 2,
       "version_minor": 0
      },
      "text/plain": [
       "Loading checkpoint shards:   0%|          | 0/2 [00:00<?, ?it/s]"
      ]
     },
     "metadata": {},
     "output_type": "display_data"
    },
    {
     "name": "stderr",
     "output_type": "stream",
     "text": [
      "/root/miniconda3/lib/python3.12/site-packages/torch/nn/modules/conv.py:605: UserWarning: Plan failed with a cudnnException: CUDNN_BACKEND_EXECUTION_PLAN_DESCRIPTOR: cudnnFinalize Descriptor Failed cudnn_status: CUDNN_STATUS_NOT_SUPPORTED (Triggered internally at ../aten/src/ATen/native/cudnn/Conv_v8.cpp:919.)\n",
      "  return F.conv3d(\n",
      "The input hidden states seems to be silently casted in float32, this might be related to the fact you have upcasted embedding or layer norm layers in float32. We will cast back the input in torch.float16.\n"
     ]
    },
    {
     "name": "stdout",
     "output_type": "stream",
     "text": [
      "6.4937405325472355\n",
      "['```json\\n{\\n    \"IsNewsTrue\": 0,\\n    \"reasons\": [\\n        \"图片内容描述的是樱花盛开的美丽景象，没有涉及任何新闻事件或信息。\",\\n        \"文章详细介绍了武汉东湖樱花园和周边其他地区的樱花开放情况以及相关活动安排，但这些都属于日常报道而非新闻事件。\",\\n        \"文章提到的多个地点如武汉东湖樱花园、武汉大学樱花大道等都是公众熟知的地方，不存在虚假信息的风险。\"\\n    ]\\n}\\n```']\n"
     ]
    }
   ],
   "source": [
    "from model_tool import Qwen\n",
    "import time\n",
    "model=Qwen()\n",
    "\n",
    "text=\"\"\"\n",
    "‌武汉樱花季盛大启幕：全城沉浸式赏樱体验升级‌\n",
    "\n",
    "‌东湖樱花园今日开园 早樱盛放迎客‌\n",
    "3月6日，武汉东湖樱花园正式开园，园内早樱已形成粉红花海，吸引大批游客驻足‌13。目前，中樱品种仍处于花苞期，预计3月中旬迎来盛放‌13。为提升体验，园区新增粉色主题装饰、夜间灯光秀及“樱花雨”互动场景，并首次引入牡丹盆景展与郁金香花田，打造“梅樱同赏”特色活动‌38。\n",
    "\n",
    "‌全市赏樱地图扩容 特色景点人气飙升‌\n",
    "武汉龟山公园凭借早樱品种福建山樱抢占“开春第一景”，玫红色花朵与山坡栈道相映成趣，3月2日以来日均游客量破万‌4。武汉大学樱花大道早樱初绽，中樱染井吉野预计3月中下旬盛放，校方已启动预约限流措施‌17。汉口江滩樱园早樱开放七成，未来一个月将接力呈现多品种花海‌13。此外，光谷珞喻东路大黄村公交站完成改造，透明花瓣顶棚与樱花树形成“最美车站”新地标‌3。\n",
    "\n",
    "‌本土樱花新品种亮相 科技赋能花期延长‌\n",
    "武汉市园林科研院自主培育的“楚樱”系列新品种成为亮点，其中“楚天红日”已进入盛花期，其余7个品种含苞待放‌5。该系列耐寒性强、花期提前且花量更大，已在龟山公园、东湖景区推广种植，助力武汉樱花观赏期从2月底延续至5月‌45。\n",
    "\n",
    "‌文旅融合激活“赏樱经济”‌\n",
    "武汉商圈与景区联动推出沉浸式樱花主题体验：武商MALL打造千米樱花大道，江宸天街设置8米高樱花树并定时飘落“花瓣雨”‌3。民众乐园举办樱花手账节，武汉万象城推出灯光秀与艺术展，建设大道变身“城市赏樱走廊”‌3。全国范围内，湖北代表团借两会契机向全球发出“樱花之约”，江西、昆明等地同步启动樱花节，形成春季旅游联动效应‌67。\n",
    "\n",
    "‌交通与安全措施全面升级‌\n",
    "针对客流高峰，武汉市文旅部门联合消防、公安开展“行消联动”夜巡行动，重点排查景区、商圈及老旧社区安全隐患，确保游览秩序‌2。地铁、公交增开“樱花专列”，光谷广场等枢纽增设临时导览牌，东湖景区启用分时段预约系统‌38。\n",
    "\"\"\"\n",
    "\n",
    "\n",
    "output_text=model.predict(text,\"blank.jpg\")\n",
    "\n",
    "print(output_text)"
   ]
  },
  {
   "cell_type": "code",
   "execution_count": null,
   "id": "4325c016-987e-4833-9b2e-aaf099c2ea57",
   "metadata": {},
   "outputs": [],
   "source": [
    "output_text=model.predict(text)\n",
    "\n",
    "print(output_text)"
   ]
  },
  {
   "cell_type": "code",
   "execution_count": null,
   "id": "71bf5c8a-014f-44a1-81fc-92ce850156a2",
   "metadata": {},
   "outputs": [],
   "source": []
  }
 ],
 "metadata": {
  "kernelspec": {
   "display_name": "Python 3 (ipykernel)",
   "language": "python",
   "name": "python3"
  },
  "language_info": {
   "codemirror_mode": {
    "name": "ipython",
    "version": 3
   },
   "file_extension": ".py",
   "mimetype": "text/x-python",
   "name": "python",
   "nbconvert_exporter": "python",
   "pygments_lexer": "ipython3",
   "version": "3.12.3"
  }
 },
 "nbformat": 4,
 "nbformat_minor": 5
}
