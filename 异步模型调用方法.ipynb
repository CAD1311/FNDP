{
 "cells": [
  {
   "cell_type": "code",
   "execution_count": 1,
   "id": "71bf5c8a-014f-44a1-81fc-92ce850156a2",
   "metadata": {},
   "outputs": [
    {
     "name": "stderr",
     "output_type": "stream",
     "text": [
      "2025-03-09 15:03:03,725 - asycn_model_tool - INFO - 正在初始化 Qwen 模型...\n",
      "2025-03-09 15:03:03,934 - accelerate.utils.modeling - INFO - We will use 90% of the memory on device 0 for storing the model, and 10% for the buffer to avoid OOM. You can set `max_memory` in to a higher value to use more memory (at your own risk).\n"
     ]
    },
    {
     "data": {
      "application/vnd.jupyter.widget-view+json": {
       "model_id": "83184655e96e4d71b98d4c4473da36be",
       "version_major": 2,
       "version_minor": 0
      },
      "text/plain": [
       "Loading checkpoint shards:   0%|          | 0/2 [00:00<?, ?it/s]"
      ]
     },
     "metadata": {},
     "output_type": "display_data"
    },
    {
     "name": "stderr",
     "output_type": "stream",
     "text": [
      "2025-03-09 15:03:06,888 - asycn_model_tool - INFO - Qwen 模型初始化完成\n"
     ]
    }
   ],
   "source": [
    "from asycn_model_tool import Qwen\n",
    "import asyncio\n",
    "\n",
    "model=Qwen();"
   ]
  },
  {
   "cell_type": "code",
   "execution_count": 2,
   "id": "5279914f-5c31-459f-bed2-1d69d7c74345",
   "metadata": {},
   "outputs": [
    {
     "name": "stderr",
     "output_type": "stream",
     "text": [
      "2025-03-09 15:03:06,894 - asycn_model_tool - INFO - 批处理循环已启动\n",
      "2025-03-09 15:03:07,157 - asycn_model_tool - INFO - 处理批次，批次大小: 1\n",
      "2025-03-09 15:03:11,469 - asycn_model_tool - INFO - 批处理生成完成，处理时间: 4.31秒，批次大小: 1\n",
      "2025-03-09 15:03:11,483 - asycn_model_tool - INFO - 处理批次，批次大小: 3\n",
      "2025-03-09 15:03:15,779 - asycn_model_tool - INFO - 批处理生成完成，处理时间: 4.29秒，批次大小: 3\n"
     ]
    }
   ],
   "source": [
    "await model.start()"
   ]
  },
  {
   "cell_type": "code",
   "execution_count": 3,
   "id": "15d408b7-19c8-40d9-a494-5319846a1b1f",
   "metadata": {},
   "outputs": [
    {
     "name": "stdout",
     "output_type": "stream",
     "text": [
      "任务 1 结果: ```json\n",
      "{\n",
      "  \"IsNewsTrue\": 1,\n",
      "  \"reasons\": [\n",
      "    \"信息来源可靠，来自官方渠道（如武汉市园林科研院）发布的新闻报道。\",\n",
      "    \"提供了详细的时间线和地点描述，符合实际发生的事件。\",\n",
      "    \"包含了多个知名景点的信息，具有较高的可信度。\",\n",
      "    \"没有发现明显的逻辑矛盾或者不实信息。\",\n",
      "    \"使用了具体的数据和时间来支撑陈述的内容\"\n",
      "  ],\n",
      "  \"recommendation\": \"关注官方网站发布的新闻动态，获取最准确的信息。\"\n",
      "}\n",
      "```\n",
      "任务 2 结果: ```json\n",
      "{\n",
      "  \"IsNewsTrue\": 1,\n",
      "  \"reasons\": [\n",
      "    \"信息来源可靠，来自官方渠道（如武汉市园林科研院）发布的新闻报道。\",\n",
      "    \"提供了详细的时间线和地点描述，符合实际发生的事件。\",\n",
      "    \"包含了多个知名景点的信息，增加了信息的真实感和可信度。\",\n",
      "    \"没有发现明显的逻辑矛盾或者不实之处。\",\n",
      "    \"使用了具体的数据和时间来支撑信息的真实性\"\n",
      "  ],\n",
      "  \"recommendation\": \"关注官方网站发布的新闻动态，获取最准确的信息。\"\n",
      "}\n",
      "```\n",
      "任务 3 结果: ```json\n",
      "{\n",
      "  \"IsNewsTrue\": 1,\n",
      "  \"reasons\": [\n",
      "    \"信息来源可靠，来自官方渠道（如武汉市园林科研院）发布的新闻报道。\",\n",
      "    \"提供了详细的时间线和地点描述，符合实际发生的事件。\",\n",
      "    \"包含了多个知名景点的信息，增加了信息的真实感和可信度。\",\n",
      "    \"没有发现明显的逻辑矛盾或者不实之处。\",\n",
      "    \"使用了具体的数据和时间来支撑信息的真实性\"\n",
      "  ],\n",
      "  \"recommendation\": \"关注官方网站发布的新闻动态，获取最准确的信息。\"\n",
      "}\n",
      "```\n",
      "任务 4 结果: ```json\n",
      "{\n",
      "  \"IsNewsTrue\": 1,\n",
      "  \"reasons\": [\n",
      "    \"信息来源可靠，来自官方渠道（如武汉市园林科研院）发布的新闻报道。\",\n",
      "    \"提供了详细的时间线和地点描述，符合实际发生的事件。\",\n",
      "    \"包含了多个知名景点的信息，具有较高的可信度。\",\n",
      "    \"没有发现明显的逻辑矛盾或者不实信息。\",\n",
      "    \"使用了具体的数据和时间来支撑陈述的内容\"\n",
      "  ],\n",
      "  \"recommendation\": \"关注官方网站发布的新闻动态，获取最准确的信息。\"\n",
      "}\n",
      "```\n"
     ]
    }
   ],
   "source": [
    "text=\"\"\"\n",
    "‌武汉樱花季盛大启幕：全城沉浸式赏樱体验升级‌\n",
    "\n",
    "‌东湖樱花园今日开园 早樱盛放迎客‌\n",
    "3月6日，武汉东湖樱花园正式开园，园内早樱已形成粉红花海，吸引大批游客驻足‌13。目前，中樱品种仍处于花苞期，预计3月中旬迎来盛放‌13。为提升体验，园区新增粉色主题装饰、夜间灯光秀及“樱花雨”互动场景，并首次引入牡丹盆景展与郁金香花田，打造“梅樱同赏”特色活动‌38。\n",
    "\n",
    "‌全市赏樱地图扩容 特色景点人气飙升‌\n",
    "武汉龟山公园凭借早樱品种福建山樱抢占“开春第一景”，玫红色花朵与山坡栈道相映成趣，3月2日以来日均游客量破万‌4。武汉大学樱花大道早樱初绽，中樱染井吉野预计3月中下旬盛放，校方已启动预约限流措施‌17。汉口江滩樱园早樱开放七成，未来一个月将接力呈现多品种花海‌13。此外，光谷珞喻东路大黄村公交站完成改造，透明花瓣顶棚与樱花树形成“最美车站”新地标‌3。\n",
    "\n",
    "‌本土樱花新品种亮相 科技赋能花期延长‌\n",
    "武汉市园林科研院自主培育的“楚樱”系列新品种成为亮点，其中“楚天红日”已进入盛花期，其余7个品种含苞待放‌5。该系列耐寒性强、花期提前且花量更大，已在龟山公园、东湖景区推广种植，助力武汉樱花观赏期从2月底延续至5月‌45。\n",
    "\n",
    "‌文旅融合激活“赏樱经济”‌\n",
    "武汉商圈与景区联动推出沉浸式樱花主题体验：武商MALL打造千米樱花大道，江宸天街设置8米高樱花树并定时飘落“花瓣雨”‌3。民众乐园举办樱花手账节，武汉万象城推出灯光秀与艺术展，建设大道变身“城市赏樱走廊”‌3。全国范围内，湖北代表团借两会契机向全球发出“樱花之约”，江西、昆明等地同步启动樱花节，形成春季旅游联动效应‌67。\n",
    "\n",
    "‌交通与安全措施全面升级‌\n",
    "针对客流高峰，武汉市文旅部门联合消防、公安开展“行消联动”夜巡行动，重点排查景区、商圈及老旧社区安全隐患，确保游览秩序‌2。地铁、公交增开“樱花专列”，光谷广场等枢纽增设临时导览牌，东湖景区启用分时段预约系统‌38。\n",
    "\"\"\"\n",
    "\n",
    "\n",
    "texts = [text, text, text, text]\n",
    "images = [\"blank.jpg\", \"blank.jpg\", \"blank.jpg\", \"blank.jpg\"]  \n",
    "\n",
    "tasks = [model.predict(text, img) for text, img in zip(texts, images)]\n",
    "\n",
    "results = await asyncio.gather(*tasks)\n",
    "\n",
    "# 处理结果\n",
    "for i, result in enumerate(results):\n",
    "    print(f\"任务 {i+1} 结果: {result}\")"
   ]
  },
  {
   "cell_type": "code",
   "execution_count": null,
   "id": "e96e8dc7-3a01-422e-91ba-261cf40b0bf6",
   "metadata": {},
   "outputs": [],
   "source": []
  }
 ],
 "metadata": {
  "kernelspec": {
   "display_name": "Python 3 (ipykernel)",
   "language": "python",
   "name": "python3"
  },
  "language_info": {
   "codemirror_mode": {
    "name": "ipython",
    "version": 3
   },
   "file_extension": ".py",
   "mimetype": "text/x-python",
   "name": "python",
   "nbconvert_exporter": "python",
   "pygments_lexer": "ipython3",
   "version": "3.12.3"
  }
 },
 "nbformat": 4,
 "nbformat_minor": 5
}
