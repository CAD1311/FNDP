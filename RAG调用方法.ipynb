{
 "cells": [
  {
   "cell_type": "code",
   "execution_count": 1,
   "id": "d8bd50a5-6309-43b8-a72d-aa781f91ab95",
   "metadata": {},
   "outputs": [],
   "source": [
    "from asycn_model_tool import Qwen\n",
    "import asyncio\n",
    "from rag import RAG,VectorStore\n",
    "\n",
    "\n",
    "\n"
   ]
  },
  {
   "cell_type": "code",
   "execution_count": 2,
   "id": "e0788357-8d67-4007-9304-816ff8417c14",
   "metadata": {},
   "outputs": [
    {
     "name": "stderr",
     "output_type": "stream",
     "text": [
      "2025-03-09 15:16:20,122 - sentence_transformers.SentenceTransformer - INFO - Load pretrained SentenceTransformer: shibing624/text2vec-base-chinese\n"
     ]
    },
    {
     "name": "stdout",
     "output_type": "stream",
     "text": [
      "模型已加载到 cuda 设备\n",
      "向量存储已从 ./vector_store 加载，包含 23974 个文档\n"
     ]
    }
   ],
   "source": [
    "model_cache_dir = \"./models\"\n",
    "save_dir = \"./vector_store\"\n",
    "\n",
    "\n",
    "vector_store = VectorStore.load(\n",
    "            save_dir=save_dir,\n",
    "            embedding_model='shibing624/text2vec-base-chinese',\n",
    "            model_cache_dir=model_cache_dir,\n",
    "            device='cuda'\n",
    "        )\n",
    "\n",
    "rag = RAG(vector_store)\n"
   ]
  },
  {
   "cell_type": "code",
   "execution_count": 4,
   "id": "5c7a7e4b-f14f-4882-aee9-7948ffbf5007",
   "metadata": {},
   "outputs": [
    {
     "data": {
      "application/vnd.jupyter.widget-view+json": {
       "model_id": "a668e818b18e4118b44f5539846f61a1",
       "version_major": 2,
       "version_minor": 0
      },
      "text/plain": [
       "Batches:   0%|          | 0/1 [00:00<?, ?it/s]"
      ]
     },
     "metadata": {},
     "output_type": "display_data"
    },
    {
     "name": "stdout",
     "output_type": "stream",
     "text": [
      "查询时间: 0.1892秒\n",
      "查询: 马云\n",
      "\n",
      "\n",
      "        基于以下信息回答问题:\n",
      "        相关文档:\n",
      "        文档 1 (相似度: 151.0450):\n",
      "【user】: 这是一个在2015/11/21微博发布的新闻。标题是无标题，正文是#足球·亚冠决赛#萌萌哒的马云，全情投入。[笑cry]，是属于文体娱乐类别的新闻。[图片: images/news_plf12s07923.jpg]请你告诉我是否是谣言。\n",
      "\n",
      "【assistant】: 事实\n",
      "\n",
      "\n",
      "\n",
      "文档 2 (相似度: 143.3820):\n",
      "【user】: 这是一个在2023/3/1界面发布的新闻。标题是谷歌派对结束了吗？Alphabet打击成本，裁员潮，部门首席执行官辞职，正文是2023年1月20日 · 亚马逊也是类似的逻辑，去年第一波裁员，主要是公司的设备部门（包括语音助手 Alexa、Kindle、智能家居产品、Echo扬声器、健 …，是属于类别的新闻。[图片: images/blank.jpg]请你告诉我是否是谣言。\n",
      "\n",
      "【assistant】: 谣言\n",
      "\n",
      "\n",
      "\n",
      "文档 3 (相似度: 141.9601):\n",
      "【user】: 这是一个在2013/2/11微博发布的新闻。标题是无标题，正文是又一重大悲剧的发生，引发的健康危机马化腾，广东汕头人，腾讯主要创办人之一， 现担任公司控股董事会主席兼首席执行官CE0、QQ之父、微信创始人马化腾先生昨天下午在深圳人民医院因汹酒、过劳后引起心肌梗死去世，享年39岁，被称《福布斯》2012年福布斯中国富豪榜单，以403.2亿元位列第四。 ，是属于财经商业类别的新闻。[图片: images/blank.jpg]请你告诉我是否是谣言。\n",
      "\n",
      "【assistant】: 谣言\n",
      "\n",
      "\n",
      "        问题: 马云\n",
      "        回答:\n",
      "        \n"
     ]
    }
   ],
   "source": [
    "import time\n",
    "# 测试查询\n",
    "query = \"马云\"\n",
    "start_time = time.perf_counter()\n",
    "result = rag.generate(query)\n",
    "print(f\"查询时间: {time.perf_counter() - start_time:.4f}秒\")\n",
    "\n",
    "print(f\"查询: {query}\")\n",
    "print(\"\\n\" + result)\n"
   ]
  },
  {
   "cell_type": "code",
   "execution_count": null,
   "id": "15b626c5-39a5-48d9-ae72-0754ef272ded",
   "metadata": {},
   "outputs": [],
   "source": []
  }
 ],
 "metadata": {
  "kernelspec": {
   "display_name": "Python 3 (ipykernel)",
   "language": "python",
   "name": "python3"
  },
  "language_info": {
   "codemirror_mode": {
    "name": "ipython",
    "version": 3
   },
   "file_extension": ".py",
   "mimetype": "text/x-python",
   "name": "python",
   "nbconvert_exporter": "python",
   "pygments_lexer": "ipython3",
   "version": "3.12.3"
  }
 },
 "nbformat": 4,
 "nbformat_minor": 5
}
